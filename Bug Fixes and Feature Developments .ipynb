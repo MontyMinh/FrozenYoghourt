{
 "cells": [
  {
   "cell_type": "code",
   "execution_count": 1,
   "id": "0826e556",
   "metadata": {},
   "outputs": [
    {
     "name": "stdout",
     "output_type": "stream",
     "text": [
      "Collecting FrozenYoghourt==0.0.8\n",
      "  Downloading FrozenYoghourt-0.0.8-py3-none-any.whl (10 kB)\n",
      "Installing collected packages: FrozenYoghourt\n",
      "  Attempting uninstall: FrozenYoghourt\n",
      "    Found existing installation: FrozenYoghourt 0.0.6\n",
      "    Uninstalling FrozenYoghourt-0.0.6:\n",
      "      Successfully uninstalled FrozenYoghourt-0.0.6\n",
      "Successfully installed FrozenYoghourt-0.0.8\n",
      "Note: you may need to restart the kernel to use updated packages.\n"
     ]
    }
   ],
   "source": [
    "pip install FrozenYoghourt==0.0.8"
   ]
  },
  {
   "cell_type": "code",
   "execution_count": 5,
   "id": "759fafb0",
   "metadata": {},
   "outputs": [],
   "source": [
    "from FrozenYoghourt import *\n",
    "from FrozenYoghourt.quantum import Quantum as q"
   ]
  },
  {
   "cell_type": "code",
   "execution_count": 7,
   "id": "c913dade",
   "metadata": {},
   "outputs": [],
   "source": [
    "from qiskit.quantum_info import *"
   ]
  },
  {
   "cell_type": "code",
   "execution_count": 9,
   "id": "0f511cb0",
   "metadata": {},
   "outputs": [],
   "source": [
    "u = random_unitary(4).data\n",
    "v = random_unitary(4).data"
   ]
  },
  {
   "cell_type": "code",
   "execution_count": 10,
   "id": "41c327e3",
   "metadata": {},
   "outputs": [
    {
     "data": {
      "text/plain": [
       "(array([[-0.0270201 -0.47927419j, -0.20143279+0.08163662j,\n",
       "         -0.60554986-0.4824404j , -0.1182232 +0.33001569j],\n",
       "        [ 0.19051138+0.10461894j, -0.08284848+0.47283186j,\n",
       "          0.33053579-0.11676118j,  0.47975513+0.60767952j],\n",
       "        [-0.47975513+0.60767952j,  0.33053579+0.11676118j,\n",
       "         -0.08284848-0.47283186j, -0.19051138+0.10461894j],\n",
       "        [-0.1182232 -0.33001569j,  0.60554986-0.4824404j ,\n",
       "          0.20143279+0.08163662j, -0.0270201 +0.47927419j]]),\n",
       " array([[ 0.45664107-0.63966489j,  0.4384393 -0.32506792j,\n",
       "          0.25962298-0.03269147j,  0.07074937-0.1045528j ],\n",
       "        [ 0.39760447+0.26227648j, -0.52540987-0.55657862j,\n",
       "          0.07485445+0.27347778j, -0.10307361-0.31027245j],\n",
       "        [ 0.04305702+0.29704288j, -0.04674394+0.02363688j,\n",
       "          0.48690596-0.71606917j,  0.29256129-0.26784949j],\n",
       "        [-0.2551861 +0.01487199j,  0.24200406+0.23442882j,\n",
       "          0.20695854+0.24180484j, -0.39693242-0.74985284j]]))"
      ]
     },
     "execution_count": 10,
     "metadata": {},
     "output_type": "execute_result"
    }
   ],
   "source": [
    "q.double_cosets(u, v)"
   ]
  },
  {
   "cell_type": "code",
   "execution_count": null,
   "id": "4e29fbe8",
   "metadata": {},
   "outputs": [],
   "source": []
  }
 ],
 "metadata": {
  "kernelspec": {
   "display_name": "Python 3",
   "language": "python",
   "name": "python3"
  },
  "language_info": {
   "codemirror_mode": {
    "name": "ipython",
    "version": 3
   },
   "file_extension": ".py",
   "mimetype": "text/x-python",
   "name": "python",
   "nbconvert_exporter": "python",
   "pygments_lexer": "ipython3",
   "version": "3.8.3"
  }
 },
 "nbformat": 4,
 "nbformat_minor": 5
}
